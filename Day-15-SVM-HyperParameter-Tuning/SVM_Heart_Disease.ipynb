{
 "cells": [
  {
   "cell_type": "code",
   "execution_count": null,
   "metadata": {
    "id": "xNeFzZpdn8r9"
   },
   "outputs": [],
   "source": [
    "import pandas as pd\n",
    "import numpy as np\n",
    "import matplotlib.pyplot as plt\n",
    "import seaborn as sns\n",
    "\n",
    "from sklearn.model_selection import train_test_split, GridSearchCV,cross_val_score\n",
    "from sklearn.svm import SVC\n",
    "from sklearn.metrics import accuracy_score, f1_score, classification_report\n",
    "\n",
    "import warnings\n",
    "warnings.filterwarnings('ignore')\n"
   ]
  },
  {
   "cell_type": "code",
   "execution_count": 2,
   "metadata": {
    "id": "IEugLkh3n8r_"
   },
   "outputs": [],
   "source": [
    "def create_baseline_model(X_train, X_test, y_train, y_test):\n",
    "    \"\"\"\n",
    "    Create and evaluate a baseline SVM model\n",
    "    \"\"\"\n",
    "\n",
    "    baseline_svm = SVC(kernel='linear', random_state=42)\n",
    "\n",
    "\n",
    "    baseline_svm.fit(X_train, y_train)\n",
    "\n",
    "    y_pred = baseline_svm.predict(X_test)\n",
    "\n",
    "    baseline_accuracy = accuracy_score(y_test, y_pred)\n",
    "    baseline_f1 = f1_score(y_test, y_pred)\n",
    "\n",
    "    print(\"Baseline Model Performance:\")\n",
    "    print(f\"Accuracy: {baseline_accuracy:.4f}\")\n",
    "    print(f\"F1-score: {baseline_f1:.4f}\")\n",
    "    print(\"\\nClassification Report:\")\n",
    "    print(classification_report(y_test, y_pred))\n",
    "\n",
    "    return baseline_accuracy, baseline_f1"
   ]
  },
  {
   "cell_type": "code",
   "execution_count": 3,
   "metadata": {
    "id": "8m0xO71Tn8r_"
   },
   "outputs": [],
   "source": [
    "def perform_grid_search(X_train, y_train):\n",
    "    \"\"\"\n",
    "    Perform grid search for hyperparameter tuning with separate grids for different kernels\n",
    "    \"\"\"\n",
    "    # Define separate parameter grids for different kernels\n",
    "    linear_param_grid = {\n",
    "        'kernel': ['linear'],\n",
    "        'C': [0.1, 1, 10, 100]\n",
    "    }\n",
    "\n",
    "    rbf_param_grid = {\n",
    "        'kernel': ['rbf'],\n",
    "        'C': [0.1, 1, 10, 100],\n",
    "        'gamma': ['scale', 'auto', 0.01, 0.1]\n",
    "    }\n",
    "\n",
    "    poly_param_grid = {\n",
    "        'kernel': ['poly'],\n",
    "        'C': [0.1, 1, 10],\n",
    "        'degree': [2, 3],\n",
    "        'gamma': ['scale', 'auto']\n",
    "    }\n",
    "\n",
    "    # Initialize best score tracking\n",
    "    best_score = -1\n",
    "    best_params = None\n",
    "    best_estimator = None\n",
    "\n",
    "    # Test each kernel's parameter grid separately\n",
    "    for param_grid in [linear_param_grid, rbf_param_grid, poly_param_grid]:\n",
    "        print(f\"\\nTesting parameters for {param_grid['kernel'][0]} kernel...\")\n",
    "\n",
    "        # Initialize GridSearchCV\n",
    "        grid_search = GridSearchCV(\n",
    "            estimator=SVC(random_state=42),\n",
    "            param_grid=param_grid,\n",
    "            cv=5,\n",
    "            scoring='f1',\n",
    "            n_jobs=-1,\n",
    "            verbose=1\n",
    "        )\n",
    "\n",
    "        # Fit GridSearchCV\n",
    "        grid_search.fit(X_train, y_train)\n",
    "\n",
    "        # Update best parameters if current kernel performs better\n",
    "        if grid_search.best_score_ > best_score:\n",
    "            best_score = grid_search.best_score_\n",
    "            best_params = grid_search.best_params_\n",
    "            best_estimator = grid_search.best_estimator_\n",
    "\n",
    "        print(f\"Best parameters for {param_grid['kernel'][0]}: {grid_search.best_params_}\")\n",
    "        print(f\"Best F1-score for {param_grid['kernel'][0]}: {grid_search.best_score_:.4f}\")\n",
    "\n",
    "    print(\"\\nOverall Best Results:\")\n",
    "    print(f\"Best parameters: {best_params}\")\n",
    "    print(f\"Best cross-validation F1-score: {best_score:.4f}\")\n",
    "\n",
    "    return best_estimator, best_params"
   ]
  },
  {
   "cell_type": "code",
   "execution_count": 4,
   "metadata": {
    "id": "ZIPTnDpsn8sA"
   },
   "outputs": [],
   "source": [
    "def evaluate_optimized_model(best_model, X_test, y_test):\n",
    "    \"\"\"\n",
    "    Evaluate the optimized model\n",
    "    \"\"\"\n",
    "\n",
    "    y_pred = best_model.predict(X_test)\n",
    "\n",
    "    optimized_accuracy = accuracy_score(y_test, y_pred)\n",
    "    optimized_f1 = f1_score(y_test, y_pred)\n",
    "\n",
    "    print(\"\\nOptimized Model Performance:\")\n",
    "    print(f\"Accuracy: {optimized_accuracy:.4f}\")\n",
    "    print(f\"F1-score: {optimized_f1:.4f}\")\n",
    "    print(\"\\nClassification Report:\")\n",
    "    print(classification_report(y_test, y_pred))\n",
    "\n",
    "    return optimized_accuracy, optimized_f1"
   ]
  },
  {
   "cell_type": "code",
   "execution_count": 5,
   "metadata": {
    "id": "G9r5z_g7n8sA"
   },
   "outputs": [],
   "source": [
    "df = pd.read_csv(\"full_processed_heart_disease_cleveland.csv\")\n",
    "\n",
    "X = df.drop([\"target\"],axis=1)\n",
    "y = df[\"target\"]\n",
    "\n",
    "X_train, X_test, y_train, y_test = train_test_split(X,y,test_size=0.2, random_state=42)"
   ]
  },
  {
   "cell_type": "code",
   "execution_count": 6,
   "metadata": {
    "colab": {
     "base_uri": "https://localhost:8080/"
    },
    "id": "S_gnA__Nn8sA",
    "outputId": "37ab4637-800e-4e24-fa47-d68e7ef479fa"
   },
   "outputs": [
    {
     "name": "stdout",
     "output_type": "stream",
     "text": [
      "Baseline Model Performance:\n",
      "Accuracy: 0.8852\n",
      "F1-score: 0.8889\n",
      "\n",
      "Classification Report:\n",
      "              precision    recall  f1-score   support\n",
      "\n",
      "           0       0.87      0.90      0.88        29\n",
      "           1       0.90      0.88      0.89        32\n",
      "\n",
      "    accuracy                           0.89        61\n",
      "   macro avg       0.88      0.89      0.89        61\n",
      "weighted avg       0.89      0.89      0.89        61\n",
      "\n"
     ]
    }
   ],
   "source": [
    "# Create and evaluate baseline model\n",
    "baseline_accuracy, baseline_f1 = create_baseline_model(X_train, X_test, y_train, y_test)"
   ]
  },
  {
   "cell_type": "code",
   "execution_count": 7,
   "metadata": {
    "colab": {
     "base_uri": "https://localhost:8080/"
    },
    "id": "oGayx0Fyn8sB",
    "outputId": "d3f47b1f-b463-44b5-f9b5-65000fa7e6a4"
   },
   "outputs": [
    {
     "name": "stdout",
     "output_type": "stream",
     "text": [
      "\n",
      "Testing parameters for linear kernel...\n",
      "Fitting 5 folds for each of 4 candidates, totalling 20 fits\n",
      "Best parameters for linear: {'C': 1, 'kernel': 'linear'}\n",
      "Best F1-score for linear: 0.8099\n",
      "\n",
      "Testing parameters for rbf kernel...\n",
      "Fitting 5 folds for each of 16 candidates, totalling 80 fits\n",
      "Best parameters for rbf: {'C': 100, 'gamma': 'scale', 'kernel': 'rbf'}\n",
      "Best F1-score for rbf: 0.7395\n",
      "\n",
      "Testing parameters for poly kernel...\n",
      "Fitting 5 folds for each of 12 candidates, totalling 60 fits\n",
      "Best parameters for poly: {'C': 1, 'degree': 3, 'gamma': 'auto', 'kernel': 'poly'}\n",
      "Best F1-score for poly: 0.7322\n",
      "\n",
      "Overall Best Results:\n",
      "Best parameters: {'C': 1, 'kernel': 'linear'}\n",
      "Best cross-validation F1-score: 0.8099\n"
     ]
    }
   ],
   "source": [
    "# Perform grid search\n",
    "\n",
    "best_model, best_params = perform_grid_search(X_train, y_train)"
   ]
  },
  {
   "cell_type": "code",
   "execution_count": 8,
   "metadata": {
    "colab": {
     "base_uri": "https://localhost:8080/"
    },
    "id": "QeLmp9Rvn8sC",
    "outputId": "89c8e96b-4a0e-4458-fcec-b11bf015b556"
   },
   "outputs": [
    {
     "name": "stdout",
     "output_type": "stream",
     "text": [
      "\n",
      "Optimized Model Performance:\n",
      "Accuracy: 0.8852\n",
      "F1-score: 0.8889\n",
      "\n",
      "Classification Report:\n",
      "              precision    recall  f1-score   support\n",
      "\n",
      "           0       0.87      0.90      0.88        29\n",
      "           1       0.90      0.88      0.89        32\n",
      "\n",
      "    accuracy                           0.89        61\n",
      "   macro avg       0.88      0.89      0.89        61\n",
      "weighted avg       0.89      0.89      0.89        61\n",
      "\n"
     ]
    }
   ],
   "source": [
    "# Evaluate optimized model\n",
    "optimized_accuracy, optimized_f1 = evaluate_optimized_model(best_model, X_test, y_test)"
   ]
  },
  {
   "cell_type": "code",
   "execution_count": 9,
   "metadata": {
    "colab": {
     "base_uri": "https://localhost:8080/"
    },
    "id": "L-TFLvhpn8sC",
    "outputId": "52355416-45d2-4f4e-9161-d55119cba8da"
   },
   "outputs": [
    {
     "name": "stdout",
     "output_type": "stream",
     "text": [
      "\n",
      "Performance Improvement Summary:\n",
      "Accuracy improvement: 0.00%\n",
      "F1-score improvement: 0.00%\n"
     ]
    }
   ],
   "source": [
    "print(\"\\nPerformance Improvement Summary:\")\n",
    "print(f\"Accuracy improvement: {(optimized_accuracy - baseline_accuracy) * 100:.2f}%\")\n",
    "print(f\"F1-score improvement: {(optimized_f1 - baseline_f1) * 100:.2f}%\")"
   ]
  }
 ],
 "metadata": {
  "colab": {
   "provenance": []
  },
  "kernelspec": {
   "display_name": "Python 3",
   "name": "python3"
  },
  "language_info": {
   "codemirror_mode": {
    "name": "ipython",
    "version": 3
   },
   "file_extension": ".py",
   "mimetype": "text/x-python",
   "name": "python",
   "nbconvert_exporter": "python",
   "pygments_lexer": "ipython3",
   "version": "3.12.7"
  }
 },
 "nbformat": 4,
 "nbformat_minor": 0
}
