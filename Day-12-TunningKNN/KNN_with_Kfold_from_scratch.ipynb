{
 "cells": [
  {
   "cell_type": "code",
   "execution_count": 1,
   "metadata": {},
   "outputs": [],
   "source": [
    "import numpy as np\n",
    "from sklearn.model_selection import cross_val_score\n",
    "from sklearn.preprocessing import StandardScaler\n",
    "from sklearn.neighbors import KNeighborsClassifier\n",
    "from sklearn.metrics import accuracy_score, f1_score\n",
    "import pandas as pd"
   ]
  },
  {
   "cell_type": "markdown",
   "metadata": {},
   "source": [
    "## implementing K-Fold from scratch\n"
   ]
  },
  {
   "cell_type": "code",
   "execution_count": 5,
   "metadata": {},
   "outputs": [],
   "source": [
    "def create_folds(X, y, k):\n",
    "    \"\"\"\n",
    "    Create k folds for cross-validation\n",
    "    \n",
    "    Parameters:\n",
    "    X: feature matrix\n",
    "    y: target vector\n",
    "    k: number of folds\n",
    "    \n",
    "    Returns:\n",
    "    list of tuples (train_idx, val_idx) for each fold\n",
    "    \"\"\"\n",
    "    n_samples = len(X)\n",
    "    \n",
    "    indices = np.arange(n_samples)\n",
    "    np.random.shuffle(indices)\n",
    "    fold_size = n_samples // k\n",
    "    \n",
    "\n",
    "    folds = []\n",
    "    for i in range(k):\n",
    "\n",
    "        start_idx = i * fold_size\n",
    "        end_idx = start_idx + fold_size if i < k-1 else n_samples\n",
    "        \n",
    "        val_indices = indices[start_idx:end_idx]\n",
    "        \n",
    "        train_indices = np.concatenate([\n",
    "            indices[:start_idx],\n",
    "            indices[end_idx:]\n",
    "        ])\n",
    "        \n",
    "        folds.append((train_indices, val_indices))\n",
    "    \n",
    "    return folds"
   ]
  },
  {
   "cell_type": "code",
   "execution_count": 6,
   "metadata": {},
   "outputs": [],
   "source": [
    "def k_fold_cross_validation(model, X, y, k):\n",
    "    \"\"\"\n",
    "    Implement k-fold cross-validation from scratch\n",
    "    \n",
    "    Parameters:\n",
    "    model: sklearn model object\n",
    "    X: feature matrix\n",
    "    y: target vector\n",
    "    k: number of folds\n",
    "    \n",
    "    Returns:\n",
    "    tuple of (mean_accuracy, mean_f1, accuracies, f1_scores)\n",
    "    \"\"\"\n",
    "    X = np.array(X)\n",
    "    y = np.array(y)\n",
    "    \n",
    "    folds = create_folds(X, y, k)\n",
    "    \n",
    "    accuracies = []\n",
    "    f1_scores = []\n",
    "    \n",
    "    # Perform k-fold cross-validation\n",
    "    for fold_idx, (train_idx, val_idx) in enumerate(folds, 1):\n",
    "        X_train, X_val = X[train_idx], X[val_idx]\n",
    "        y_train, y_val = y[train_idx], y[val_idx]\n",
    "        \n",
    "\n",
    "        model.fit(X_train, y_train)\n",
    "        \n",
    "\n",
    "        y_pred = model.predict(X_val)\n",
    "        \n",
    "\n",
    "        accuracy = accuracy_score(y_val, y_pred)\n",
    "        f1 = f1_score(y_val, y_pred)\n",
    "        \n",
    "        accuracies.append(accuracy)\n",
    "        f1_scores.append(f1)\n",
    "        \n",
    "        print(f\"Fold {fold_idx}: Accuracy = {accuracy:.4f}, F1-Score = {f1:.4f}\")\n",
    "    \n",
    "    mean_accuracy = np.mean(accuracies)\n",
    "    mean_f1 = np.mean(f1_scores)\n",
    "    \n",
    "    return mean_accuracy, mean_f1, accuracies, f1_scores"
   ]
  },
  {
   "cell_type": "markdown",
   "metadata": {},
   "source": [
    "## comparison with sklearn result\n"
   ]
  },
  {
   "cell_type": "code",
   "execution_count": 7,
   "metadata": {},
   "outputs": [],
   "source": [
    "def compare_with_sklearn(model, X, y, k):\n",
    "    \"\"\"\n",
    "    Compare custom implementation with sklearn's cross_val_score\n",
    "    \n",
    "    Parameters:\n",
    "    model: sklearn model object\n",
    "    X: feature matrix\n",
    "    y: target vector\n",
    "    k: number of folds\n",
    "    \n",
    "    Returns:\n",
    "    tuple of (sklearn_accuracy, sklearn_f1)\n",
    "    \"\"\"\n",
    "    # Calculate accuracy using sklearn\n",
    "    sklearn_accuracy = cross_val_score(\n",
    "        model, X, y, cv=k, scoring='accuracy'\n",
    "    ).mean()\n",
    "    \n",
    "    # Calculate F1-score using sklearn\n",
    "    sklearn_f1 = cross_val_score(\n",
    "        model, X, y, cv=k, scoring='f1'\n",
    "    ).mean()\n",
    "    \n",
    "    return sklearn_accuracy, sklearn_f1"
   ]
  },
  {
   "cell_type": "markdown",
   "metadata": {},
   "source": [
    "## train and test\n"
   ]
  },
  {
   "cell_type": "code",
   "execution_count": 2,
   "metadata": {},
   "outputs": [
    {
     "data": {
      "text/html": [
       "<div>\n",
       "<style scoped>\n",
       "    .dataframe tbody tr th:only-of-type {\n",
       "        vertical-align: middle;\n",
       "    }\n",
       "\n",
       "    .dataframe tbody tr th {\n",
       "        vertical-align: top;\n",
       "    }\n",
       "\n",
       "    .dataframe thead th {\n",
       "        text-align: right;\n",
       "    }\n",
       "</style>\n",
       "<table border=\"1\" class=\"dataframe\">\n",
       "  <thead>\n",
       "    <tr style=\"text-align: right;\">\n",
       "      <th></th>\n",
       "      <th>age</th>\n",
       "      <th>sex</th>\n",
       "      <th>cp</th>\n",
       "      <th>trestbps</th>\n",
       "      <th>chol</th>\n",
       "      <th>fbs</th>\n",
       "      <th>restecg</th>\n",
       "      <th>thalach</th>\n",
       "      <th>exang</th>\n",
       "      <th>oldpeak</th>\n",
       "      <th>slope</th>\n",
       "      <th>ca</th>\n",
       "      <th>thal</th>\n",
       "      <th>target</th>\n",
       "    </tr>\n",
       "  </thead>\n",
       "  <tbody>\n",
       "    <tr>\n",
       "      <th>0</th>\n",
       "      <td>63.0</td>\n",
       "      <td>1.0</td>\n",
       "      <td>1.0</td>\n",
       "      <td>145.0</td>\n",
       "      <td>233.0</td>\n",
       "      <td>1.0</td>\n",
       "      <td>2.0</td>\n",
       "      <td>150.0</td>\n",
       "      <td>0.0</td>\n",
       "      <td>2.3</td>\n",
       "      <td>3.0</td>\n",
       "      <td>0.0</td>\n",
       "      <td>6.0</td>\n",
       "      <td>0</td>\n",
       "    </tr>\n",
       "    <tr>\n",
       "      <th>1</th>\n",
       "      <td>67.0</td>\n",
       "      <td>1.0</td>\n",
       "      <td>4.0</td>\n",
       "      <td>160.0</td>\n",
       "      <td>286.0</td>\n",
       "      <td>0.0</td>\n",
       "      <td>2.0</td>\n",
       "      <td>108.0</td>\n",
       "      <td>1.0</td>\n",
       "      <td>1.5</td>\n",
       "      <td>2.0</td>\n",
       "      <td>3.0</td>\n",
       "      <td>3.0</td>\n",
       "      <td>1</td>\n",
       "    </tr>\n",
       "    <tr>\n",
       "      <th>2</th>\n",
       "      <td>67.0</td>\n",
       "      <td>1.0</td>\n",
       "      <td>4.0</td>\n",
       "      <td>120.0</td>\n",
       "      <td>229.0</td>\n",
       "      <td>0.0</td>\n",
       "      <td>2.0</td>\n",
       "      <td>129.0</td>\n",
       "      <td>1.0</td>\n",
       "      <td>2.6</td>\n",
       "      <td>2.0</td>\n",
       "      <td>2.0</td>\n",
       "      <td>7.0</td>\n",
       "      <td>1</td>\n",
       "    </tr>\n",
       "    <tr>\n",
       "      <th>3</th>\n",
       "      <td>37.0</td>\n",
       "      <td>1.0</td>\n",
       "      <td>3.0</td>\n",
       "      <td>130.0</td>\n",
       "      <td>250.0</td>\n",
       "      <td>0.0</td>\n",
       "      <td>0.0</td>\n",
       "      <td>187.0</td>\n",
       "      <td>0.0</td>\n",
       "      <td>3.5</td>\n",
       "      <td>3.0</td>\n",
       "      <td>0.0</td>\n",
       "      <td>3.0</td>\n",
       "      <td>0</td>\n",
       "    </tr>\n",
       "    <tr>\n",
       "      <th>4</th>\n",
       "      <td>41.0</td>\n",
       "      <td>0.0</td>\n",
       "      <td>2.0</td>\n",
       "      <td>130.0</td>\n",
       "      <td>204.0</td>\n",
       "      <td>0.0</td>\n",
       "      <td>2.0</td>\n",
       "      <td>172.0</td>\n",
       "      <td>0.0</td>\n",
       "      <td>1.4</td>\n",
       "      <td>1.0</td>\n",
       "      <td>0.0</td>\n",
       "      <td>3.0</td>\n",
       "      <td>0</td>\n",
       "    </tr>\n",
       "  </tbody>\n",
       "</table>\n",
       "</div>"
      ],
      "text/plain": [
       "    age  sex   cp  trestbps   chol  fbs  restecg  thalach  exang  oldpeak  \\\n",
       "0  63.0  1.0  1.0     145.0  233.0  1.0      2.0    150.0    0.0      2.3   \n",
       "1  67.0  1.0  4.0     160.0  286.0  0.0      2.0    108.0    1.0      1.5   \n",
       "2  67.0  1.0  4.0     120.0  229.0  0.0      2.0    129.0    1.0      2.6   \n",
       "3  37.0  1.0  3.0     130.0  250.0  0.0      0.0    187.0    0.0      3.5   \n",
       "4  41.0  0.0  2.0     130.0  204.0  0.0      2.0    172.0    0.0      1.4   \n",
       "\n",
       "   slope   ca  thal  target  \n",
       "0    3.0  0.0   6.0       0  \n",
       "1    2.0  3.0   3.0       1  \n",
       "2    2.0  2.0   7.0       1  \n",
       "3    3.0  0.0   3.0       0  \n",
       "4    1.0  0.0   3.0       0  "
      ]
     },
     "execution_count": 2,
     "metadata": {},
     "output_type": "execute_result"
    }
   ],
   "source": [
    "df = pd.read_csv('../dataset/full_processed_heart_disease_cleveland.csv')\n",
    "df.head()"
   ]
  },
  {
   "cell_type": "code",
   "execution_count": 3,
   "metadata": {},
   "outputs": [
    {
     "name": "stdout",
     "output_type": "stream",
     "text": [
      "<class 'pandas.core.frame.DataFrame'>\n",
      "RangeIndex: 303 entries, 0 to 302\n",
      "Data columns (total 14 columns):\n",
      " #   Column    Non-Null Count  Dtype  \n",
      "---  ------    --------------  -----  \n",
      " 0   age       303 non-null    float64\n",
      " 1   sex       303 non-null    float64\n",
      " 2   cp        303 non-null    float64\n",
      " 3   trestbps  303 non-null    float64\n",
      " 4   chol      303 non-null    float64\n",
      " 5   fbs       303 non-null    float64\n",
      " 6   restecg   303 non-null    float64\n",
      " 7   thalach   303 non-null    float64\n",
      " 8   exang     303 non-null    float64\n",
      " 9   oldpeak   303 non-null    float64\n",
      " 10  slope     303 non-null    float64\n",
      " 11  ca        303 non-null    float64\n",
      " 12  thal      303 non-null    float64\n",
      " 13  target    303 non-null    int64  \n",
      "dtypes: float64(13), int64(1)\n",
      "memory usage: 33.3 KB\n"
     ]
    }
   ],
   "source": [
    "df.info()"
   ]
  },
  {
   "cell_type": "code",
   "execution_count": 4,
   "metadata": {},
   "outputs": [
    {
     "data": {
      "text/plain": [
       "age         0\n",
       "sex         0\n",
       "cp          0\n",
       "trestbps    0\n",
       "chol        0\n",
       "fbs         0\n",
       "restecg     0\n",
       "thalach     0\n",
       "exang       0\n",
       "oldpeak     0\n",
       "slope       0\n",
       "ca          0\n",
       "thal        0\n",
       "target      0\n",
       "dtype: int64"
      ]
     },
     "execution_count": 4,
     "metadata": {},
     "output_type": "execute_result"
    }
   ],
   "source": [
    "df.isnull().sum()"
   ]
  },
  {
   "cell_type": "code",
   "execution_count": 9,
   "metadata": {},
   "outputs": [],
   "source": [
    "X = df.drop(['target'],axis=1)\n",
    "y = df['target']"
   ]
  },
  {
   "cell_type": "code",
   "execution_count": 11,
   "metadata": {},
   "outputs": [
    {
     "name": "stdout",
     "output_type": "stream",
     "text": [
      "Custom K-Fold Cross-Validation Results:\n",
      "----------------------------------------\n",
      "Fold 1: Accuracy = 0.6333, F1-Score = 0.5926\n",
      "Fold 2: Accuracy = 0.7000, F1-Score = 0.7097\n",
      "Fold 3: Accuracy = 0.6833, F1-Score = 0.6545\n",
      "Fold 4: Accuracy = 0.6500, F1-Score = 0.5532\n",
      "Fold 5: Accuracy = 0.6667, F1-Score = 0.5714\n"
     ]
    }
   ],
   "source": [
    "knn = KNeighborsClassifier(n_neighbors=5)\n",
    "    \n",
    "# Set number of folds\n",
    "k = 5\n",
    "    \n",
    "print(\"Custom K-Fold Cross-Validation Results:\")\n",
    "print(\"-\" * 40)\n",
    "    \n",
    "# Perform custom k-fold cross-validation\n",
    "mean_acc, mean_f1, accuracies, f1_scores = k_fold_cross_validation(knn, X, y, k)"
   ]
  },
  {
   "cell_type": "code",
   "execution_count": 13,
   "metadata": {},
   "outputs": [
    {
     "name": "stdout",
     "output_type": "stream",
     "text": [
      "\n",
      "Comparison with Sklearn Implementation:\n",
      "----------------------------------------\n",
      "Sklearn Mean Accuracy: 0.6571\n",
      "Sklearn Mean F1-Score: 0.6020\n"
     ]
    }
   ],
   "source": [
    "# Compare with sklearn implementation\n",
    "print(\"\\nComparison with Sklearn Implementation:\")\n",
    "print(\"-\" * 40)\n",
    "sklearn_acc, sklearn_f1 = compare_with_sklearn(knn, X, y, k)\n",
    "print(f\"Sklearn Mean Accuracy: {sklearn_acc:.4f}\")\n",
    "print(f\"Sklearn Mean F1-Score: {sklearn_f1:.4f}\")"
   ]
  },
  {
   "cell_type": "code",
   "execution_count": 14,
   "metadata": {},
   "outputs": [
    {
     "name": "stdout",
     "output_type": "stream",
     "text": [
      "\n",
      "Difference in Accuracy: 0.0096\n",
      "Difference in F1-Score: 0.0142\n"
     ]
    }
   ],
   "source": [
    "# Calculate differences\n",
    "acc_diff = abs(mean_acc - sklearn_acc)\n",
    "f1_diff = abs(mean_f1 - sklearn_f1)\n",
    "print(f\"\\nDifference in Accuracy: {acc_diff:.4f}\")\n",
    "print(f\"Difference in F1-Score: {f1_diff:.4f}\")"
   ]
  },
  {
   "cell_type": "code",
   "execution_count": null,
   "metadata": {},
   "outputs": [],
   "source": []
  }
 ],
 "metadata": {
  "kernelspec": {
   "display_name": "Python 3",
   "language": "python",
   "name": "python3"
  },
  "language_info": {
   "codemirror_mode": {
    "name": "ipython",
    "version": 3
   },
   "file_extension": ".py",
   "mimetype": "text/x-python",
   "name": "python",
   "nbconvert_exporter": "python",
   "pygments_lexer": "ipython3",
   "version": "3.12.7"
  }
 },
 "nbformat": 4,
 "nbformat_minor": 2
}
